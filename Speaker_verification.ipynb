{
  "nbformat": 4,
  "nbformat_minor": 0,
  "metadata": {
    "colab": {
      "provenance": []
    },
    "kernelspec": {
      "name": "python3",
      "display_name": "Python 3"
    },
    "language_info": {
      "name": "python"
    }
  },
  "cells": [
    {
      "cell_type": "markdown",
      "source": [
        "#Load dataset (VoxCeleb1)"
      ],
      "metadata": {
        "id": "dP_Qvu7I5S4L"
      }
    },
    {
      "cell_type": "code",
      "source": [
        "!pip install datasets"
      ],
      "metadata": {
        "id": "cp-ewpTB7-yq"
      },
      "execution_count": null,
      "outputs": []
    },
    {
      "cell_type": "code",
      "source": [
        "from google.colab import drive\n",
        "drive.mount('/content/drive', force_remount=True)"
      ],
      "metadata": {
        "colab": {
          "base_uri": "https://localhost:8080/"
        },
        "id": "Fq7HpuoDIQQ_",
        "outputId": "e7b18478-f027-421f-f1d1-4aff20974721"
      },
      "execution_count": 35,
      "outputs": [
        {
          "output_type": "stream",
          "name": "stdout",
          "text": [
            "Mounted at /content/drive\n"
          ]
        }
      ]
    },
    {
      "cell_type": "code",
      "source": [
        "import tarfile\n",
        "\n",
        "file = tarfile.open('drive/MyDrive/Speech_understanding/VoxCeleb1_subset.tar-tron’s MacBook Pro.gz')"
      ],
      "metadata": {
        "id": "RpbYvHkwIQTp"
      },
      "execution_count": 36,
      "outputs": []
    },
    {
      "cell_type": "code",
      "source": [
        "file.extractall('./VoxCeleb1')\n",
        "file.close()"
      ],
      "metadata": {
        "id": "PZN_iDSPIQYZ"
      },
      "execution_count": 37,
      "outputs": []
    },
    {
      "cell_type": "markdown",
      "source": [
        "#Load Pre-trained Models"
      ],
      "metadata": {
        "id": "kAIXC7EEJ9ZD"
      }
    },
    {
      "cell_type": "markdown",
      "source": [
        "##ECAPA"
      ],
      "metadata": {
        "id": "lPHNIQbaWO3d"
      }
    },
    {
      "cell_type": "code",
      "source": [
        "# !pip install git+https://github.com/speechbrain/speechbrain.git@develop"
      ],
      "metadata": {
        "id": "vMdn1qy4BLx7"
      },
      "execution_count": 38,
      "outputs": []
    },
    {
      "cell_type": "code",
      "source": [
        "from speechbrain.inference.speaker import SpeakerRecognition\n",
        "verification = SpeakerRecognition.from_hparams(source=\"speechbrain/spkrec-ecapa-voxceleb\", savedir=\"pretrained_models/spkrec-ecapa-voxceleb\")"
      ],
      "metadata": {
        "id": "IXgo0azeCX3d"
      },
      "execution_count": 52,
      "outputs": []
    },
    {
      "cell_type": "markdown",
      "source": [
        "#Compute EER"
      ],
      "metadata": {
        "id": "MF-U2A15QmTV"
      }
    },
    {
      "cell_type": "code",
      "source": [
        "import os\n",
        "import torchaudio\n",
        "import numpy as np\n",
        "\n",
        "from tqdm import tqdm\n",
        "from sklearn.metrics import roc_curve"
      ],
      "metadata": {
        "id": "sPXJtAS8LEBT"
      },
      "execution_count": 58,
      "outputs": []
    },
    {
      "cell_type": "code",
      "source": [
        "def compute_eer(y_true, y_score):\n",
        "    fpr, tpr, thresholds = roc_curve(y_true, y_score, pos_label=1)\n",
        "    eer = fpr[np.nanargmin(np.abs(fpr - (1 - tpr)))]\n",
        "    return eer"
      ],
      "metadata": {
        "id": "rl_1jINXLO1z"
      },
      "execution_count": 47,
      "outputs": []
    },
    {
      "cell_type": "code",
      "source": [
        "dataset_dir = \"./VoxCeleb1/VoxCeleb1_subset\"\n",
        "test_dir = os.path.join(dataset_dir, \"test\")\n",
        "\n",
        "with open(os.path.join(dataset_dir, 'list_test_hard.txt'), \"r\") as f:\n",
        "    pairs = [line.strip().split() for line in f]"
      ],
      "metadata": {
        "id": "2cWZiaTQLEEf"
      },
      "execution_count": 67,
      "outputs": []
    },
    {
      "cell_type": "code",
      "source": [
        "test_scores = []\n",
        "test_labels = []\n",
        "for pair in tqdm(pairs):\n",
        "    file1_path = os.path.join(test_dir, pair[1])\n",
        "    file2_path = os.path.join(test_dir, pair[2])\n",
        "    if os.path.exists(file1_path) and os.path.exists(file2_path):\n",
        "      score, _ = verification.verify_files(file1_path, file2_path)\n",
        "      test_scores.append(score)\n",
        "      test_labels.append(int(pair[0]))"
      ],
      "metadata": {
        "colab": {
          "base_uri": "https://localhost:8080/"
        },
        "id": "YsEKvkv4Q9br",
        "outputId": "518ebaf9-c697-4514-9de8-760cd7939fb9"
      },
      "execution_count": 68,
      "outputs": [
        {
          "output_type": "stream",
          "name": "stderr",
          "text": [
            "100%|██████████| 10000/10000 [04:45<00:00, 34.99it/s]\n"
          ]
        }
      ]
    },
    {
      "cell_type": "code",
      "source": [
        "test_eer = compute_eer(test_labels, test_scores)"
      ],
      "metadata": {
        "id": "Eyp38hlBU9Sw"
      },
      "execution_count": 69,
      "outputs": []
    },
    {
      "cell_type": "code",
      "source": [
        "test_eer/ 100"
      ],
      "metadata": {
        "colab": {
          "base_uri": "https://localhost:8080/"
        },
        "id": "PdgyDO-7WluX",
        "outputId": "b251ddc9-b36d-4fb8-8630-2df749507e10"
      },
      "execution_count": 71,
      "outputs": [
        {
          "output_type": "execute_result",
          "data": {
            "text/plain": [
              "0.5"
            ]
          },
          "metadata": {},
          "execution_count": 71
        }
      ]
    }
  ]
}